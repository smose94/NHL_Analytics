{
 "cells": [
  {
   "cell_type": "code",
   "execution_count": 3,
   "metadata": {},
   "outputs": [
    {
     "data": {
      "text/plain": [
       "1      2018020005\n",
       "2      2018020017\n",
       "3      2018020034\n",
       "4      2018020046\n",
       "5      2018020069\n",
       "6      2018020085\n",
       "7      2018020098\n",
       "8      2018020105\n",
       "9      2018020117\n",
       "10     2018020135\n",
       "11     2018020154\n",
       "12     2018020167\n",
       "13     2018020183\n",
       "14     2018020195\n",
       "15     2018020208\n",
       "16     2018020230\n",
       "17     2018020242\n",
       "18     2018020264\n",
       "19     2018020287\n",
       "20     2018020294\n",
       "21     2018020310\n",
       "22     2018020318\n",
       "23     2018020333\n",
       "24     2018020350\n",
       "25     2018020367\n",
       "26     2018020385\n",
       "27     2018020390\n",
       "28     2018020414\n",
       "29     2018020416\n",
       "30     2018020444\n",
       "          ...    \n",
       "141    2019020813\n",
       "142    2019020827\n",
       "143    2019020840\n",
       "144    2019020856\n",
       "145    2019020866\n",
       "146    2019020880\n",
       "147    2019020913\n",
       "148    2019020922\n",
       "149    2019020950\n",
       "150    2019020960\n",
       "151    2019020981\n",
       "152    2019020997\n",
       "153    2019021008\n",
       "154    2019021024\n",
       "155    2019021033\n",
       "156    2019021056\n",
       "157    2019021066\n",
       "158    2019021084\n",
       "159    2019021093\n",
       "160    2019021113\n",
       "161    2019021126\n",
       "162    2019021138\n",
       "163    2019021153\n",
       "164    2019021165\n",
       "165    2019021177\n",
       "166    2019021193\n",
       "167    2019021213\n",
       "168    2019021224\n",
       "169    2019021244\n",
       "170    2019021261\n",
       "Name: GameID, Length: 170, dtype: int64"
      ]
     },
     "execution_count": 3,
     "metadata": {},
     "output_type": "execute_result"
    }
   ],
   "source": [
    "import pandas as pd\n",
    "import numpy as np\n",
    "import requests\n",
    "import json\n",
    "import seaborn as sns\n",
    "import matplotlib.pyplot as plt\n",
    "from datetime import datetime, timedelta\n",
    "import matplotlib.patches as patches\n",
    "from matplotlib.lines import Line2D\n",
    "from matplotlib.path import Path\n",
    "from matplotlib.patches import PathPatch\n",
    "\n",
    "yesterday = datetime.now() - timedelta(days=1)\n",
    "yesterday = yesterday.strftime('20%y-%m-%d')\n",
    "\n",
    "url_teams = 'https://statsapi.web.nhl.com/api/v1/schedule?teamId=7&startDate=2018-10-01&endDate=%s' %yesterday\n",
    "r_teams = requests.get(url_teams)\n",
    "team_data = r_teams.json()\n",
    "max_games = team_data['totalGames']\n",
    "max_games = np.arange(1,max_games+1,1)\n",
    "\n",
    "\n",
    "#Create index for dataframe based on number of goals scored\n",
    "df_game_index = np.arange(1,len(max_games)+1,1)\n",
    "names_ID = ['GameID','Date']\n",
    "\n",
    "#Create array to extract the coordinates and the name of the scorer for each goal in the game\n",
    "df_games = pd.DataFrame(index=df_game_index, columns=names_ID)\n",
    "#Create empty array with columns\n",
    "df_games = df_games.fillna(0)\n",
    "for i in max_games:\n",
    "    df_games.loc[i,'GameID']=team_data['dates'][i-1]['games'][0]['gamePk']\n",
    "game_IDs = df_games['GameID']\n",
    "game_IDs\n"
   ]
  },
  {
   "cell_type": "code",
   "execution_count": 4,
   "metadata": {},
   "outputs": [],
   "source": [
    "\n",
    "\n",
    "df_comp = df_shots_season.merge(df_working).drop(columns=['X-Location','Y-Location'])\n",
    "\n",
    "from sklearn.model_selection import train_test_split\n",
    "from sklearn.ensemble import RandomForestClassifier \n",
    "from sklearn import preprocessing\n",
    "\n",
    "le = preprocessing.LabelEncoder()\n",
    "\n",
    "df_comp['Type'] = le.fit_transform(df_comp['Type'])\n",
    "df_comp['Strength'] = le.fit_transform(df_comp['Strength'])\n",
    "\n",
    "\n",
    "\n",
    "X = df_comp[['Strength','Type','Shot Distance','Shot Angle']] #Features\n",
    "y = df_comp['Goal?'] #Labels\n",
    "\n",
    "X_train, X_test, y_train, y_test = train_test_split(X, y, test_size=0.2)\n",
    "\n",
    "clf = RandomForestClassifier(n_estimators=500)\n",
    "\n",
    "clf.fit(X_train,y_train)\n",
    "\n",
    "y_pred=clf.predict(X_test)\n",
    "\n"
   ]
  },
  {
   "cell_type": "code",
   "execution_count": 7,
   "metadata": {},
   "outputs": [
    {
     "name": "stdout",
     "output_type": "stream",
     "text": [
      "Accuracy: 0.9517657192075797\n"
     ]
    }
   ],
   "source": [
    "#Import scikit-learn metrics module for accuracy calculation\n",
    "from sklearn import metrics\n",
    "# Model Accuracy, how often is the classifier correct?\n",
    "print(\"Accuracy:\",metrics.accuracy_score(y_test, y_pred))"
   ]
  },
  {
   "cell_type": "code",
   "execution_count": 1,
   "metadata": {},
   "outputs": [
    {
     "ename": "NameError",
     "evalue": "name 'pd' is not defined",
     "output_type": "error",
     "traceback": [
      "\u001b[0;31m---------------------------------------------------------------------------\u001b[0m",
      "\u001b[0;31mNameError\u001b[0m                                 Traceback (most recent call last)",
      "\u001b[0;32m<ipython-input-1-335693ceeddc>\u001b[0m in \u001b[0;36m<module>\u001b[0;34m\u001b[0m\n\u001b[1;32m      1\u001b[0m \u001b[0;32mfrom\u001b[0m \u001b[0msklearn\u001b[0m\u001b[0;34m.\u001b[0m\u001b[0mmetrics\u001b[0m \u001b[0;32mimport\u001b[0m \u001b[0mconfusion_matrix\u001b[0m\u001b[0;34m\u001b[0m\u001b[0;34m\u001b[0m\u001b[0m\n\u001b[0;32m----> 2\u001b[0;31m \u001b[0mcm\u001b[0m \u001b[0;34m=\u001b[0m \u001b[0mpd\u001b[0m\u001b[0;34m.\u001b[0m\u001b[0mDataFrame\u001b[0m\u001b[0;34m(\u001b[0m\u001b[0mconfusion_matrix\u001b[0m\u001b[0;34m(\u001b[0m\u001b[0my_test\u001b[0m\u001b[0;34m,\u001b[0m \u001b[0my_pred\u001b[0m\u001b[0;34m)\u001b[0m\u001b[0;34m)\u001b[0m\u001b[0;34m\u001b[0m\u001b[0;34m\u001b[0m\u001b[0m\n\u001b[0m\u001b[1;32m      3\u001b[0m \u001b[0mprint\u001b[0m\u001b[0;34m(\u001b[0m\u001b[0mcm\u001b[0m\u001b[0;34m)\u001b[0m\u001b[0;34m\u001b[0m\u001b[0;34m\u001b[0m\u001b[0m\n\u001b[1;32m      4\u001b[0m \u001b[0;31m#Currently identifies correctly 3 goals....lol..len(y_pred)\u001b[0m\u001b[0;34m\u001b[0m\u001b[0;34m\u001b[0m\u001b[0;34m\u001b[0m\u001b[0m\n\u001b[1;32m      5\u001b[0m \u001b[0mprint\u001b[0m\u001b[0;34m(\u001b[0m\u001b[0mmetrics\u001b[0m\u001b[0;34m.\u001b[0m\u001b[0mf1_score\u001b[0m\u001b[0;34m(\u001b[0m\u001b[0my_test\u001b[0m\u001b[0;34m,\u001b[0m\u001b[0my_pred\u001b[0m\u001b[0;34m)\u001b[0m\u001b[0;34m)\u001b[0m\u001b[0;34m\u001b[0m\u001b[0;34m\u001b[0m\u001b[0m\n",
      "\u001b[0;31mNameError\u001b[0m: name 'pd' is not defined"
     ]
    }
   ],
   "source": [
    "from sklearn.metrics import confusion_matrix\n",
    "cm = pd.DataFrame(confusion_matrix(y_test, y_pred))\n",
    "print(cm)\n",
    "#Currently identifies correctly 3 goals....lol..len(y_pred)\n",
    "print(metrics.f1_score(y_test,y_pred))\n",
    "print(metrics.roc_auc_score(y_test,y_pred))\n",
    "print(metrics.recall_score(y_test,y_pred))"
   ]
  },
  {
   "cell_type": "code",
   "execution_count": null,
   "metadata": {},
   "outputs": [],
   "source": []
  }
 ],
 "metadata": {
  "kernelspec": {
   "display_name": "Python 3",
   "language": "python",
   "name": "python3"
  },
  "language_info": {
   "codemirror_mode": {
    "name": "ipython",
    "version": 3
   },
   "file_extension": ".py",
   "mimetype": "text/x-python",
   "name": "python",
   "nbconvert_exporter": "python",
   "pygments_lexer": "ipython3",
   "version": "3.7.3"
  }
 },
 "nbformat": 4,
 "nbformat_minor": 2
}
